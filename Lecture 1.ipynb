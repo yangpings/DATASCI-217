{
 "cells": [
  {
   "metadata": {},
   "cell_type": "markdown",
   "source": "Lecture 1 introduces the bash/sh/powershell within a machine. Code is as follows\n",
   "id": "7def4bd0639ba6ba"
  },
  {
   "cell_type": "code",
   "id": "initial_id",
   "metadata": {
    "collapsed": true,
    "ExecuteTime": {
     "end_time": "2024-09-12T02:45:35.207343Z",
     "start_time": "2024-09-12T02:45:35.202735Z"
    }
   },
   "source": [
    "#Print Working Directory: Get-Location\n",
    "#List Directory Contents: dir\n",
    "#Change Directory: cd path/to/directory\n",
    "#Special Directory: ~,.,..\n",
    "#Create Directory: mkdir new_folder\n",
    "#Create Files: New-Item file.txt\n",
    "#Copy Files: cp source destination\n",
    "#Move/Rename: mv old_name new_name\n",
    "#Remove: rm file.txt\n",
    "#Display Entire File: Get-Content file.txt\n",
    "#View Beginning/end: Get-Content file.txt -Head 10\n",
    "#Search for patterns: Select-String pattern file.txt\n",
    "#Chaining with pipe: cat file.txt | grep pattern\n",
    "#to Cancel running: Control-c\n",
    "#to run using python: py"
   ],
   "outputs": [],
   "execution_count": 1
  },
  {
   "metadata": {},
   "cell_type": "markdown",
   "source": "lets start with python",
   "id": "a0b26f8aeb29b412"
  },
  {
   "metadata": {
    "ExecuteTime": {
     "end_time": "2024-09-12T02:45:35.331521Z",
     "start_time": "2024-09-12T02:45:35.325696Z"
    }
   },
   "cell_type": "code",
   "source": [
    "#this is a comment\n",
    "print(\"This is code\")\n",
    "#Integers: \n",
    "x = 5\n",
    "#Floats: \n",
    "y = 3.14\n",
    "#Strings:\n",
    "name  =  \"Alice\"\n",
    "#Simple Operations\n",
    "#if you use arithmetic: +, -, *,/,**\n",
    "#modulus: %\n",
    "#string concatenation: \"Hello\" + \" \"+ \"World\"\n",
    "#Equals == , Not Equals !=\n",
    "# >, <, <=, >=\n",
    "# in, not in\n",
    "# ^ as not\n",
    "#If statements:\n",
    "if x > 0:\n",
    "    print(\"Positive\")\n",
    "#For loops:\n",
    "for i in range(5):\n",
    "    print(i)\n",
    "#String concatenation: print(“Hello, “ + variable + “!”)\n",
    "#Printing with f-strings: print(f“Hello, {variable}!"
   ],
   "id": "6a6e8ce21c46f213",
   "outputs": [
    {
     "name": "stdout",
     "output_type": "stream",
     "text": [
      "This is code\n",
      "Positive\n",
      "0\n",
      "1\n",
      "2\n",
      "3\n",
      "4\n"
     ]
    }
   ],
   "execution_count": 2
  },
  {
   "metadata": {},
   "cell_type": "markdown",
   "source": "Homework: If we list all the natural numbers below 10 that are multiples of 3 or 5, we get (3, 5, 6, 9). The sum of these multiples is 23. Find the sum of all the multiples of 3 or 5 below 1000.",
   "id": "6c374b64811598c7"
  },
  {
   "metadata": {
    "ExecuteTime": {
     "end_time": "2024-09-12T02:45:35.684299Z",
     "start_time": "2024-09-12T02:45:35.680907Z"
    }
   },
   "cell_type": "code",
   "source": [
    "num_sum = 0\n",
    "for i in range(1,1000):\n",
    "    if i % 3 == 0:\n",
    "        num_sum = i + num_sum\n",
    "    elif i % 5 == 0: \n",
    "        num_sum = i + num_sum\n",
    "    i += 1\n",
    "print(num_sum) "
   ],
   "id": "f40f911a114768ea",
   "outputs": [
    {
     "name": "stdout",
     "output_type": "stream",
     "text": [
      "233168\n"
     ]
    }
   ],
   "execution_count": 3
  },
  {
   "metadata": {},
   "cell_type": "code",
   "outputs": [],
   "execution_count": null,
   "source": "#The end",
   "id": "e63e381fdf58d6ab"
  }
 ],
 "metadata": {
  "kernelspec": {
   "display_name": "Python 3",
   "language": "python",
   "name": "python3"
  },
  "language_info": {
   "codemirror_mode": {
    "name": "ipython",
    "version": 2
   },
   "file_extension": ".py",
   "mimetype": "text/x-python",
   "name": "python",
   "nbconvert_exporter": "python",
   "pygments_lexer": "ipython2",
   "version": "2.7.6"
  }
 },
 "nbformat": 4,
 "nbformat_minor": 5
}
